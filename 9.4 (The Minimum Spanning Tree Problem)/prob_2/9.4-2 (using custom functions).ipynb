{
 "cells": [
  {
   "cell_type": "markdown",
   "metadata": {},
   "source": [
    "# 9.4-2 (using custom functions)"
   ]
  },
  {
   "cell_type": "markdown",
   "metadata": {},
   "source": [
    "The Wirehouse Lumber Company will soon begin logging eight groves of trees in the same general area. Therefore, it must develop a system of dirt roads that makes each grove accessible from every other grove. The distance (in miles) between every pair of groves is as follows: \n",
    "<br>\n",
    "<br>\n",
    "\n",
    "<div>\n",
    "<img src=\"img_9.4-2_table.png\" width=\"400\"/>\n",
    "</div>"
   ]
  },
  {
   "cell_type": "markdown",
   "metadata": {},
   "source": [
    "Management now wishes to determine between which pairs of groves the roads should be constructed to connect all groves with a minimum total length of road.<br>\n",
    "\n",
    "(a) Describe how this problem fits the network description of the minimum spanning tree problem. <br>\n",
    "(b) Use the algorithm described in Sec. 9.4 to solve the problem.\n"
   ]
  },
  {
   "cell_type": "code",
   "execution_count": 1,
   "metadata": {},
   "outputs": [],
   "source": [
    "import pandas as pd"
   ]
  },
  {
   "cell_type": "code",
   "execution_count": 2,
   "metadata": {},
   "outputs": [
    {
     "data": {
      "text/html": [
       "<div>\n",
       "<style scoped>\n",
       "    .dataframe tbody tr th:only-of-type {\n",
       "        vertical-align: middle;\n",
       "    }\n",
       "\n",
       "    .dataframe tbody tr th {\n",
       "        vertical-align: top;\n",
       "    }\n",
       "\n",
       "    .dataframe thead th {\n",
       "        text-align: right;\n",
       "    }\n",
       "</style>\n",
       "<table border=\"1\" class=\"dataframe\">\n",
       "  <thead>\n",
       "    <tr style=\"text-align: right;\">\n",
       "      <th></th>\n",
       "      <th>u</th>\n",
       "      <th>v</th>\n",
       "      <th>distance</th>\n",
       "    </tr>\n",
       "  </thead>\n",
       "  <tbody>\n",
       "    <tr>\n",
       "      <th>0</th>\n",
       "      <td>1</td>\n",
       "      <td>1</td>\n",
       "      <td>0.0</td>\n",
       "    </tr>\n",
       "    <tr>\n",
       "      <th>1</th>\n",
       "      <td>2</td>\n",
       "      <td>1</td>\n",
       "      <td>1.3</td>\n",
       "    </tr>\n",
       "    <tr>\n",
       "      <th>2</th>\n",
       "      <td>3</td>\n",
       "      <td>1</td>\n",
       "      <td>2.1</td>\n",
       "    </tr>\n",
       "    <tr>\n",
       "      <th>3</th>\n",
       "      <td>4</td>\n",
       "      <td>1</td>\n",
       "      <td>0.9</td>\n",
       "    </tr>\n",
       "    <tr>\n",
       "      <th>4</th>\n",
       "      <td>5</td>\n",
       "      <td>1</td>\n",
       "      <td>0.7</td>\n",
       "    </tr>\n",
       "  </tbody>\n",
       "</table>\n",
       "</div>"
      ],
      "text/plain": [
       "   u  v  distance\n",
       "0  1  1       0.0\n",
       "1  2  1       1.3\n",
       "2  3  1       2.1\n",
       "3  4  1       0.9\n",
       "4  5  1       0.7"
      ]
     },
     "execution_count": 2,
     "metadata": {},
     "output_type": "execute_result"
    }
   ],
   "source": [
    "# initialize data\n",
    "df = pd.read_csv('data_arc.csv')\n",
    "df.head()"
   ]
  },
  {
   "cell_type": "code",
   "execution_count": 3,
   "metadata": {},
   "outputs": [
    {
     "data": {
      "text/html": [
       "<div>\n",
       "<style scoped>\n",
       "    .dataframe tbody tr th:only-of-type {\n",
       "        vertical-align: middle;\n",
       "    }\n",
       "\n",
       "    .dataframe tbody tr th {\n",
       "        vertical-align: top;\n",
       "    }\n",
       "\n",
       "    .dataframe thead th {\n",
       "        text-align: right;\n",
       "    }\n",
       "</style>\n",
       "<table border=\"1\" class=\"dataframe\">\n",
       "  <thead>\n",
       "    <tr style=\"text-align: right;\">\n",
       "      <th></th>\n",
       "      <th>u</th>\n",
       "      <th>v</th>\n",
       "      <th>distance</th>\n",
       "    </tr>\n",
       "  </thead>\n",
       "  <tbody>\n",
       "    <tr>\n",
       "      <th>1</th>\n",
       "      <td>2</td>\n",
       "      <td>1</td>\n",
       "      <td>1.3</td>\n",
       "    </tr>\n",
       "    <tr>\n",
       "      <th>2</th>\n",
       "      <td>3</td>\n",
       "      <td>1</td>\n",
       "      <td>2.1</td>\n",
       "    </tr>\n",
       "    <tr>\n",
       "      <th>3</th>\n",
       "      <td>4</td>\n",
       "      <td>1</td>\n",
       "      <td>0.9</td>\n",
       "    </tr>\n",
       "    <tr>\n",
       "      <th>4</th>\n",
       "      <td>5</td>\n",
       "      <td>1</td>\n",
       "      <td>0.7</td>\n",
       "    </tr>\n",
       "    <tr>\n",
       "      <th>5</th>\n",
       "      <td>6</td>\n",
       "      <td>1</td>\n",
       "      <td>1.8</td>\n",
       "    </tr>\n",
       "  </tbody>\n",
       "</table>\n",
       "</div>"
      ],
      "text/plain": [
       "   u  v  distance\n",
       "1  2  1       1.3\n",
       "2  3  1       2.1\n",
       "3  4  1       0.9\n",
       "4  5  1       0.7\n",
       "5  6  1       1.8"
      ]
     },
     "execution_count": 3,
     "metadata": {},
     "output_type": "execute_result"
    }
   ],
   "source": [
    "# remove any rows that are not connected\n",
    "df = df[df['distance']!=0]\n",
    "df.head()"
   ]
  },
  {
   "cell_type": "code",
   "execution_count": 4,
   "metadata": {},
   "outputs": [
    {
     "data": {
      "text/plain": [
       "{1, 2, 3, 4, 5, 6, 7, 8}"
      ]
     },
     "execution_count": 4,
     "metadata": {},
     "output_type": "execute_result"
    }
   ],
   "source": [
    "# create set of vertices\n",
    "nodes = set(df['u'])\n",
    "nodes"
   ]
  },
  {
   "cell_type": "code",
   "execution_count": 5,
   "metadata": {},
   "outputs": [
    {
     "data": {
      "text/plain": [
       "[(2, 1),\n",
       " (3, 1),\n",
       " (4, 1),\n",
       " (5, 1),\n",
       " (6, 1),\n",
       " (7, 1),\n",
       " (8, 1),\n",
       " (1, 2),\n",
       " (3, 2),\n",
       " (4, 2)]"
      ]
     },
     "execution_count": 5,
     "metadata": {},
     "output_type": "execute_result"
    }
   ],
   "source": [
    "# create list of arc tuples\n",
    "arcs = list((t[1], t[2]) for t in df.itertuples())\n",
    "arcs[:10]"
   ]
  },
  {
   "cell_type": "code",
   "execution_count": 99,
   "metadata": {},
   "outputs": [],
   "source": [
    "distance_dict = dict([((t[1], t[2]), t.distance) for t in df.itertuples()])\n"
   ]
  },
  {
   "cell_type": "code",
   "execution_count": 98,
   "metadata": {},
   "outputs": [],
   "source": [
    "def create_neighbor_dict(unconnected_nodes, connected_nodes):\n",
    "    neighbor_dict ={}\n",
    "    for i in connected_nodes:\n",
    "        for j in unconnected_nodes:\n",
    "            try: \n",
    "                distance = distance_dict[i,j]\n",
    "            except:\n",
    "                pass\n",
    "            neighbor_dict.update({(i,j):distance})\n",
    "    return neighbor_dict"
   ]
  },
  {
   "cell_type": "code",
   "execution_count": 16,
   "metadata": {},
   "outputs": [
    {
     "data": {
      "text/plain": [
       "{(1, 2): 1.3,\n",
       " (1, 3): 1.3,\n",
       " (1, 4): 0.9,\n",
       " (1, 5): 0.7,\n",
       " (1, 6): 1.8,\n",
       " (1, 7): 2.0,\n",
       " (1, 8): 1.5,\n",
       " (4, 2): 1.8,\n",
       " (4, 3): 2.6,\n",
       " (4, 4): 2.6,\n",
       " (4, 5): 0.7,\n",
       " (4, 6): 1.6,\n",
       " (4, 7): 1.5,\n",
       " (4, 8): 0.9}"
      ]
     },
     "execution_count": 16,
     "metadata": {},
     "output_type": "execute_result"
    }
   ],
   "source": [
    "# check\n",
    "connected_nodes = [1,4]\n",
    "create_neighbor_dict2(unconnected_nodes, connected_nodes)\n",
    "    "
   ]
  },
  {
   "cell_type": "code",
   "execution_count": 100,
   "metadata": {},
   "outputs": [],
   "source": [
    "def find_nearest_neighbor_edge(unconnected_nodes, connected_nodes):\n",
    "    neighbor_dict = create_neighbor_dict(unconnected_nodes, connected_nodes)\n",
    "    min_key = min(neighbor_dict, key=neighbor_dict.get)\n",
    "    return min_key"
   ]
  },
  {
   "cell_type": "code",
   "execution_count": 101,
   "metadata": {},
   "outputs": [
    {
     "data": {
      "text/plain": [
       "(1, 5)"
      ]
     },
     "execution_count": 101,
     "metadata": {},
     "output_type": "execute_result"
    }
   ],
   "source": [
    "# check \n",
    "find_nearest_neighbor_edge(unconnected_nodes, connected_nodes)"
   ]
  },
  {
   "cell_type": "code",
   "execution_count": 102,
   "metadata": {},
   "outputs": [],
   "source": [
    "def find_nearest_neighbor(unconnected_nodes, connected_nodes):\n",
    "    neighbor_dict = create_neighbor_dict(unconnected_nodes, connected_nodes)\n",
    "    min_key = min(neighbor_dict, key=neighbor_dict.get)\n",
    "    return  min_key[1]"
   ]
  },
  {
   "cell_type": "code",
   "execution_count": 103,
   "metadata": {},
   "outputs": [
    {
     "data": {
      "text/plain": [
       "5"
      ]
     },
     "execution_count": 103,
     "metadata": {},
     "output_type": "execute_result"
    }
   ],
   "source": [
    "find_nearest_neighbor(unconnected_nodes, connected_nodes)"
   ]
  },
  {
   "cell_type": "markdown",
   "metadata": {},
   "source": [
    "## Main logic"
   ]
  },
  {
   "cell_type": "code",
   "execution_count": 120,
   "metadata": {},
   "outputs": [],
   "source": [
    "# initialize data\n",
    "unconnected_nodes = list(nodes)\n",
    "connected_nodes =[]\n",
    "distance_lst =[]\n",
    "total_distance = 0\n",
    "edges =[]\n",
    "\n",
    "# set a starting node\n",
    "j = unconnected_nodes[0]\n",
    "connected_nodes.append(j)\n",
    "unconnected_nodes.remove(j)\n",
    "\n",
    "while len(unconnected_nodes) != 0:\n",
    "\n",
    "    # find the minimum distance for nodes from nodes that are connected to nodes that are not\n",
    "    edge_soln = find_nearest_neighbor_edge(unconnected_nodes, connected_nodes)\n",
    "    edge_distance = distance_dict[edge_soln]\n",
    "    j = edge_soln[1]\n",
    "\n",
    "    # update trackers\n",
    "    distance_lst.append(edge_distance)\n",
    "    total_distance = total_distance + edge_distance\n",
    "    edges.append(edge_soln)\n",
    "    unconnected_nodes.remove(j)\n",
    "    connected_nodes.append(j)\n",
    "\n",
    "total_distance = round(total_distance,4)\n",
    "node_1 = [i[0] for i in edges]\n",
    "node_2 = [i[1] for i in edges]\n"
   ]
  },
  {
   "cell_type": "code",
   "execution_count": 121,
   "metadata": {},
   "outputs": [
    {
     "name": "stdout",
     "output_type": "stream",
     "text": [
      "total_distance:  5.2\n",
      "edges:  [(1, 5), (5, 4), (5, 8), (8, 7), (7, 6), (8, 3), (3, 2)]\n",
      "distance_lst:  [0.7, 0.7, 0.8, 0.5, 0.6, 1.0, 0.9]\n",
      "unconnected_nodes:  []\n",
      "connected_nodes:  [1, 5, 4, 8, 7, 6, 3, 2]\n"
     ]
    }
   ],
   "source": [
    "print('total_distance: ', total_distance)\n",
    "print('edges: ', edges)\n",
    "print('distance_lst: ', distance_lst)\n",
    "print('unconnected_nodes: ', unconnected_nodes)\n",
    "print('connected_nodes: ', connected_nodes)"
   ]
  },
  {
   "cell_type": "code",
   "execution_count": 122,
   "metadata": {},
   "outputs": [
    {
     "data": {
      "text/html": [
       "<div>\n",
       "<style scoped>\n",
       "    .dataframe tbody tr th:only-of-type {\n",
       "        vertical-align: middle;\n",
       "    }\n",
       "\n",
       "    .dataframe tbody tr th {\n",
       "        vertical-align: top;\n",
       "    }\n",
       "\n",
       "    .dataframe thead th {\n",
       "        text-align: right;\n",
       "    }\n",
       "</style>\n",
       "<table border=\"1\" class=\"dataframe\">\n",
       "  <thead>\n",
       "    <tr style=\"text-align: right;\">\n",
       "      <th></th>\n",
       "      <th>node_1</th>\n",
       "      <th>node_2</th>\n",
       "      <th>distance</th>\n",
       "    </tr>\n",
       "  </thead>\n",
       "  <tbody>\n",
       "    <tr>\n",
       "      <th>0</th>\n",
       "      <td>1</td>\n",
       "      <td>5</td>\n",
       "      <td>0.7</td>\n",
       "    </tr>\n",
       "    <tr>\n",
       "      <th>1</th>\n",
       "      <td>5</td>\n",
       "      <td>4</td>\n",
       "      <td>0.7</td>\n",
       "    </tr>\n",
       "    <tr>\n",
       "      <th>2</th>\n",
       "      <td>5</td>\n",
       "      <td>8</td>\n",
       "      <td>0.8</td>\n",
       "    </tr>\n",
       "    <tr>\n",
       "      <th>3</th>\n",
       "      <td>8</td>\n",
       "      <td>7</td>\n",
       "      <td>0.5</td>\n",
       "    </tr>\n",
       "    <tr>\n",
       "      <th>4</th>\n",
       "      <td>7</td>\n",
       "      <td>6</td>\n",
       "      <td>0.6</td>\n",
       "    </tr>\n",
       "    <tr>\n",
       "      <th>5</th>\n",
       "      <td>8</td>\n",
       "      <td>3</td>\n",
       "      <td>1.0</td>\n",
       "    </tr>\n",
       "    <tr>\n",
       "      <th>6</th>\n",
       "      <td>3</td>\n",
       "      <td>2</td>\n",
       "      <td>0.9</td>\n",
       "    </tr>\n",
       "  </tbody>\n",
       "</table>\n",
       "</div>"
      ],
      "text/plain": [
       "   node_1  node_2  distance\n",
       "0       1       5       0.7\n",
       "1       5       4       0.7\n",
       "2       5       8       0.8\n",
       "3       8       7       0.5\n",
       "4       7       6       0.6\n",
       "5       8       3       1.0\n",
       "6       3       2       0.9"
      ]
     },
     "execution_count": 122,
     "metadata": {},
     "output_type": "execute_result"
    }
   ],
   "source": [
    "output_df = pd.DataFrame(\n",
    "    {'node_1': node_1,\n",
    "     'node_2': node_2,\n",
    "     'distance': distance_lst\n",
    "    })\n",
    "output_df\n"
   ]
  },
  {
   "cell_type": "code",
   "execution_count": 124,
   "metadata": {},
   "outputs": [
    {
     "data": {
      "text/plain": [
       "5.2"
      ]
     },
     "execution_count": 124,
     "metadata": {},
     "output_type": "execute_result"
    }
   ],
   "source": [
    "total_distance"
   ]
  },
  {
   "cell_type": "markdown",
   "metadata": {},
   "source": [
    "# Plot results"
   ]
  },
  {
   "cell_type": "code",
   "execution_count": 125,
   "metadata": {},
   "outputs": [],
   "source": [
    "%matplotlib inline\n",
    "import matplotlib.pyplot as plt\n",
    "import networkx as nx\n",
    "from networkx.algorithms import tree"
   ]
  },
  {
   "cell_type": "code",
   "execution_count": 126,
   "metadata": {},
   "outputs": [],
   "source": [
    "arcs = list((t[1], t[2]) for t in df.itertuples())\n",
    "distance_dict = dict([((t[1], t[2]), t.distance) for t in df.itertuples()])\n",
    "\n",
    "G = nx.Graph()\n",
    "\n",
    "for x in arcs:\n",
    "    i = x[0]\n",
    "    j = x[1]\n",
    "    weight = distance_dict[i,j]\n",
    "    G.add_edge(i,j,weight = weight)\n"
   ]
  },
  {
   "cell_type": "code",
   "execution_count": 127,
   "metadata": {},
   "outputs": [
    {
     "data": {
      "image/png": "[encoded data removed]",
      "text/plain": [
       "<Figure size 432x288 with 1 Axes>"
      ]
     },
     "metadata": {},
     "output_type": "display_data"
    }
   ],
   "source": [
    "pos = nx.spring_layout(G) \n",
    "nx.draw_networkx_nodes(G, pos, node_size=400)\n",
    "nx.draw_networkx_edges(G, pos, edgelist=edges,width=1)\n",
    "nx.draw_networkx_labels(G, pos, font_size=15, font_family='sans-serif')\n",
    "\n",
    "plt.axis('off')\n",
    "plt.show()"
   ]
  },
  {
   "cell_type": "markdown",
   "metadata": {},
   "source": [
    "# Full print out of logic"
   ]
  },
  {
   "cell_type": "code",
   "execution_count": null,
   "metadata": {},
   "outputs": [],
   "source": [
    "# # initalize\n",
    "# unconnected_nodes = list(nodes)\n",
    "# connected_nodes =[]\n",
    "# j = unconnected_nodes.pop()\n",
    "# total_distance = 0\n",
    "# edges =[]\n",
    "\n",
    "# while len(unconnected_nodes) != 0:\n",
    "    \n",
    "#     # current network before evaluation\n",
    "#     i = j\n",
    "#     print('current network before evaluation')\n",
    "#     print('starting node:',i)\n",
    "#     print('unconnected_nodes: ',unconnected_nodes)\n",
    "#     print('connected_nodes: ',connected_nodes)\n",
    "#     print('************************************************************')\n",
    "    \n",
    "    \n",
    "#     # find the nearest neighbor to i (and next node)\n",
    "#     j = find_nearest_neighbor(i)\n",
    "#     print('find the nearest neighbor to i')    \n",
    "#     print(\"nearest neighbor:\",j)\n",
    "#     print('************************************************************')\n",
    "    \n",
    "    \n",
    "#     distance_ij = find_nearest_neighbor_distance(i)\n",
    "#     print('find the distance to nearest neighbor') \n",
    "#     print(\"distance to nearest neighbor:\", distance_ij)\n",
    "#     print('************************************************************')\n",
    "    \n",
    "    \n",
    "#     soln_edge = find_nearest_neighbor_edge(i)\n",
    "#     print('update solution (edges list)')\n",
    "#     print('edges: ', soln_edge)\n",
    "#     print('************************************************************')\n",
    "    \n",
    "    \n",
    "#     # update trackers\n",
    "#     total_distance = total_distance +find_nearest_neighbor_distance(i)\n",
    "#     print('update solution (total distance)') \n",
    "#     print('total_distance:', total_distance)\n",
    "#     print('************************************************************')\n",
    "    \n",
    "    \n",
    "#     edges.append(soln_edge)\n",
    "#     print('update solution (edges list)')\n",
    "#     print('edges: ', edges)\n",
    "#     print('************************************************************')\n",
    "    \n",
    "#     connected_nodes.append(j)\n",
    "#     unconnected_nodes.remove(j)\n",
    "#     print('move the nearest neighbor, j, from unconnected list to the connected list')\n",
    "#     print('unconnected_nodes:',unconnected_nodes)\n",
    "#     print('connected_nodes:',connected_nodes)\n",
    "#     print('************************************************************')\n",
    "\n",
    " \n",
    "#     print()\n",
    "#     print()\n",
    "#     print('************************************************************')\n",
    "#     print('Next node')\n",
    "#     print('************************************************************')\n",
    "#     print()\n",
    "#     print()\n",
    "\n",
    "    \n",
    "\n"
   ]
  },
  {
   "cell_type": "code",
   "execution_count": null,
   "metadata": {},
   "outputs": [],
   "source": []
  }
 ],
 "metadata": {
  "kernelspec": {
   "display_name": "Python 3",
   "language": "python",
   "name": "python3"
  },
  "language_info": {
   "codemirror_mode": {
    "name": "ipython",
    "version": 3
   },
   "file_extension": ".py",
   "mimetype": "text/x-python",
   "name": "python",
   "nbconvert_exporter": "python",
   "pygments_lexer": "ipython3",
   "version": "3.7.3"
  }
 },
 "nbformat": 4,
 "nbformat_minor": 4
}
