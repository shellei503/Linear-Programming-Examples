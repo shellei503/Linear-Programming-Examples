{
 "cells": [
  {
   "cell_type": "markdown",
   "metadata": {},
   "source": [
    "# 8.1-1"
   ]
  },
  {
   "cell_type": "markdown",
   "metadata": {},
   "source": [
    "8.1-1. The Childfair Company has three plants producing child push chairs that are to be shipped to four\n",
    "distribution centers. Plants 1, 2, and 3 produce 12, 17, and 11 shipments per month, respectively. Each\n",
    "distribution center needs to receive 10 shipments per month. The distance from each plant to the respective\n",
    "distributing centers is given as shown below (in miles)\n",
    "\n",
    "| Plant| Dist 1 | Dist 2 | Dist 3 | Dist 4 |\n",
    "| --- | --- | --- | --- | --- |\n",
    "| Plant 1  | 800 | 1300 | 400 | 700 |\n",
    "| Plant 2  | 1100 | 1400 | 600 | 1000 |\n",
    "| Plant 3  | 600 | 1200 | 800 | 900 |\n",
    "\n",
    "\n",
    "\n",
    "The freight cost for each shipment is $100 plus 50 cents per mile. How much should be shipped from each plant to each\n",
    "of the distribution centers to minimize the total shipping cost? (a) Formulate this problem as a transportation\n",
    "problem by constructing the appropriate parameter table. (b) Draw the network representation of this problem. (c)\n",
    "Obtain an optimal solution."
   ]
  },
  {
   "cell_type": "code",
   "execution_count": 1,
   "metadata": {},
   "outputs": [],
   "source": [
    "import pandas as pd\n",
    "from docplex.mp.model import Model\n",
    "import os"
   ]
  },
  {
   "cell_type": "code",
   "execution_count": 2,
   "metadata": {},
   "outputs": [],
   "source": [
    "# Read in external data\n",
    "df_arc = pd.read_csv('data_arc.csv')\n",
    "df_plant = pd.read_csv('data_plant.csv')\n",
    "df_distribution = pd.read_csv('data_distribution.csv')"
   ]
  },
  {
   "cell_type": "code",
   "execution_count": 3,
   "metadata": {},
   "outputs": [
    {
     "data": {
      "text/html": [
       "<div>\n",
       "<style scoped>\n",
       "    .dataframe tbody tr th:only-of-type {\n",
       "        vertical-align: middle;\n",
       "    }\n",
       "\n",
       "    .dataframe tbody tr th {\n",
       "        vertical-align: top;\n",
       "    }\n",
       "\n",
       "    .dataframe thead th {\n",
       "        text-align: right;\n",
       "    }\n",
       "</style>\n",
       "<table border=\"1\" class=\"dataframe\">\n",
       "  <thead>\n",
       "    <tr style=\"text-align: right;\">\n",
       "      <th></th>\n",
       "      <th>plant</th>\n",
       "      <th>distribution</th>\n",
       "      <th>distance</th>\n",
       "    </tr>\n",
       "  </thead>\n",
       "  <tbody>\n",
       "    <tr>\n",
       "      <th>0</th>\n",
       "      <td>1</td>\n",
       "      <td>1</td>\n",
       "      <td>800</td>\n",
       "    </tr>\n",
       "    <tr>\n",
       "      <th>1</th>\n",
       "      <td>1</td>\n",
       "      <td>2</td>\n",
       "      <td>1300</td>\n",
       "    </tr>\n",
       "    <tr>\n",
       "      <th>2</th>\n",
       "      <td>1</td>\n",
       "      <td>3</td>\n",
       "      <td>400</td>\n",
       "    </tr>\n",
       "    <tr>\n",
       "      <th>3</th>\n",
       "      <td>1</td>\n",
       "      <td>4</td>\n",
       "      <td>700</td>\n",
       "    </tr>\n",
       "    <tr>\n",
       "      <th>4</th>\n",
       "      <td>2</td>\n",
       "      <td>1</td>\n",
       "      <td>1100</td>\n",
       "    </tr>\n",
       "  </tbody>\n",
       "</table>\n",
       "</div>"
      ],
      "text/plain": [
       "   plant  distribution  distance\n",
       "0      1             1       800\n",
       "1      1             2      1300\n",
       "2      1             3       400\n",
       "3      1             4       700\n",
       "4      2             1      1100"
      ]
     },
     "execution_count": 3,
     "metadata": {},
     "output_type": "execute_result"
    }
   ],
   "source": [
    "# Check\n",
    "df_arc.head()"
   ]
  },
  {
   "cell_type": "code",
   "execution_count": 4,
   "metadata": {},
   "outputs": [
    {
     "data": {
      "text/html": [
       "<div>\n",
       "<style scoped>\n",
       "    .dataframe tbody tr th:only-of-type {\n",
       "        vertical-align: middle;\n",
       "    }\n",
       "\n",
       "    .dataframe tbody tr th {\n",
       "        vertical-align: top;\n",
       "    }\n",
       "\n",
       "    .dataframe thead th {\n",
       "        text-align: right;\n",
       "    }\n",
       "</style>\n",
       "<table border=\"1\" class=\"dataframe\">\n",
       "  <thead>\n",
       "    <tr style=\"text-align: right;\">\n",
       "      <th></th>\n",
       "      <th>plant</th>\n",
       "      <th>capacity</th>\n",
       "      <th>mileage_cost</th>\n",
       "      <th>shipment_cost</th>\n",
       "    </tr>\n",
       "  </thead>\n",
       "  <tbody>\n",
       "    <tr>\n",
       "      <th>0</th>\n",
       "      <td>1</td>\n",
       "      <td>12</td>\n",
       "      <td>0.5</td>\n",
       "      <td>100</td>\n",
       "    </tr>\n",
       "    <tr>\n",
       "      <th>1</th>\n",
       "      <td>2</td>\n",
       "      <td>17</td>\n",
       "      <td>0.5</td>\n",
       "      <td>100</td>\n",
       "    </tr>\n",
       "    <tr>\n",
       "      <th>2</th>\n",
       "      <td>3</td>\n",
       "      <td>11</td>\n",
       "      <td>0.5</td>\n",
       "      <td>100</td>\n",
       "    </tr>\n",
       "  </tbody>\n",
       "</table>\n",
       "</div>"
      ],
      "text/plain": [
       "   plant  capacity  mileage_cost  shipment_cost\n",
       "0      1        12           0.5            100\n",
       "1      2        17           0.5            100\n",
       "2      3        11           0.5            100"
      ]
     },
     "execution_count": 4,
     "metadata": {},
     "output_type": "execute_result"
    }
   ],
   "source": [
    "# Check \n",
    "df_plant.head()"
   ]
  },
  {
   "cell_type": "code",
   "execution_count": 5,
   "metadata": {},
   "outputs": [
    {
     "data": {
      "text/html": [
       "<div>\n",
       "<style scoped>\n",
       "    .dataframe tbody tr th:only-of-type {\n",
       "        vertical-align: middle;\n",
       "    }\n",
       "\n",
       "    .dataframe tbody tr th {\n",
       "        vertical-align: top;\n",
       "    }\n",
       "\n",
       "    .dataframe thead th {\n",
       "        text-align: right;\n",
       "    }\n",
       "</style>\n",
       "<table border=\"1\" class=\"dataframe\">\n",
       "  <thead>\n",
       "    <tr style=\"text-align: right;\">\n",
       "      <th></th>\n",
       "      <th>distribution</th>\n",
       "      <th>demand</th>\n",
       "    </tr>\n",
       "  </thead>\n",
       "  <tbody>\n",
       "    <tr>\n",
       "      <th>0</th>\n",
       "      <td>1</td>\n",
       "      <td>10</td>\n",
       "    </tr>\n",
       "    <tr>\n",
       "      <th>1</th>\n",
       "      <td>2</td>\n",
       "      <td>10</td>\n",
       "    </tr>\n",
       "    <tr>\n",
       "      <th>2</th>\n",
       "      <td>3</td>\n",
       "      <td>10</td>\n",
       "    </tr>\n",
       "    <tr>\n",
       "      <th>3</th>\n",
       "      <td>4</td>\n",
       "      <td>10</td>\n",
       "    </tr>\n",
       "  </tbody>\n",
       "</table>\n",
       "</div>"
      ],
      "text/plain": [
       "   distribution  demand\n",
       "0             1      10\n",
       "1             2      10\n",
       "2             3      10\n",
       "3             4      10"
      ]
     },
     "execution_count": 5,
     "metadata": {},
     "output_type": "execute_result"
    }
   ],
   "source": [
    "# Check \n",
    "df_distribution.head()"
   ]
  },
  {
   "cell_type": "code",
   "execution_count": 6,
   "metadata": {},
   "outputs": [],
   "source": [
    "# Indices/sets\n",
    "arcs = list((t.plant, t.distribution) for t in df_arc.itertuples())\n",
    "plants = df_plant['plant']\n",
    "distributions = df_distribution['distribution']"
   ]
  },
  {
   "cell_type": "code",
   "execution_count": 7,
   "metadata": {},
   "outputs": [
    {
     "data": {
      "text/plain": [
       "[(1, 1),\n",
       " (1, 2),\n",
       " (1, 3),\n",
       " (1, 4),\n",
       " (2, 1),\n",
       " (2, 2),\n",
       " (2, 3),\n",
       " (2, 4),\n",
       " (3, 1),\n",
       " (3, 2),\n",
       " (3, 3),\n",
       " (3, 4)]"
      ]
     },
     "execution_count": 7,
     "metadata": {},
     "output_type": "execute_result"
    }
   ],
   "source": [
    "# Check\n",
    "arcs"
   ]
  },
  {
   "cell_type": "code",
   "execution_count": 8,
   "metadata": {},
   "outputs": [
    {
     "data": {
      "text/plain": [
       "0    1\n",
       "1    2\n",
       "2    3\n",
       "Name: plant, dtype: int64"
      ]
     },
     "execution_count": 8,
     "metadata": {},
     "output_type": "execute_result"
    }
   ],
   "source": [
    "# Check\n",
    "plants"
   ]
  },
  {
   "cell_type": "code",
   "execution_count": 9,
   "metadata": {},
   "outputs": [
    {
     "data": {
      "text/plain": [
       "0    1\n",
       "1    2\n",
       "2    3\n",
       "3    4\n",
       "Name: distribution, dtype: int64"
      ]
     },
     "execution_count": 9,
     "metadata": {},
     "output_type": "execute_result"
    }
   ],
   "source": [
    "# Check\n",
    "distributions"
   ]
  },
  {
   "cell_type": "code",
   "execution_count": 10,
   "metadata": {},
   "outputs": [],
   "source": [
    "# Parameters\n",
    "distance = dict([((t.plant, t.distribution), t.distance) for t in df_arc.itertuples()])\n",
    "capacity = df_plant['capacity']\n",
    "demand = df_distribution['demand']"
   ]
  },
  {
   "cell_type": "code",
   "execution_count": 11,
   "metadata": {},
   "outputs": [
    {
     "data": {
      "text/plain": [
       "{(1, 1): 800,\n",
       " (1, 2): 1300,\n",
       " (1, 3): 400,\n",
       " (1, 4): 700,\n",
       " (2, 1): 1100,\n",
       " (2, 2): 1400,\n",
       " (2, 3): 600,\n",
       " (2, 4): 1000,\n",
       " (3, 1): 600,\n",
       " (3, 2): 1200,\n",
       " (3, 3): 800,\n",
       " (3, 4): 900}"
      ]
     },
     "execution_count": 11,
     "metadata": {},
     "output_type": "execute_result"
    }
   ],
   "source": [
    "# Check\n",
    "distance"
   ]
  },
  {
   "cell_type": "code",
   "execution_count": 12,
   "metadata": {},
   "outputs": [
    {
     "data": {
      "text/plain": [
       "0    12\n",
       "1    17\n",
       "2    11\n",
       "Name: capacity, dtype: int64"
      ]
     },
     "execution_count": 12,
     "metadata": {},
     "output_type": "execute_result"
    }
   ],
   "source": [
    "# Check \n",
    "capacity"
   ]
  },
  {
   "cell_type": "code",
   "execution_count": 13,
   "metadata": {},
   "outputs": [
    {
     "data": {
      "text/plain": [
       "0    10\n",
       "1    10\n",
       "2    10\n",
       "3    10\n",
       "Name: demand, dtype: int64"
      ]
     },
     "execution_count": 13,
     "metadata": {},
     "output_type": "execute_result"
    }
   ],
   "source": [
    "# Check \n",
    "demand"
   ]
  },
  {
   "cell_type": "code",
   "execution_count": 14,
   "metadata": {},
   "outputs": [],
   "source": [
    "# Fixed parameters\n",
    "shipment_cost = 100\n",
    "per_mile_cost = .50\n",
    "max_demand = 10"
   ]
  },
  {
   "cell_type": "code",
   "execution_count": 15,
   "metadata": {},
   "outputs": [
    {
     "data": {
      "text/plain": [
       "<docplex.mp.model.Model at 0x121829f28>"
      ]
     },
     "execution_count": 15,
     "metadata": {},
     "output_type": "execute_result"
    }
   ],
   "source": [
    "# Create model\n",
    "m = Model('8.1-1')\n",
    "m"
   ]
  },
  {
   "cell_type": "code",
   "execution_count": 16,
   "metadata": {},
   "outputs": [
    {
     "data": {
      "text/plain": [
       "{(1, 1): docplex.mp.Var(type=I,name='x_1_1'),\n",
       " (1, 2): docplex.mp.Var(type=I,name='x_1_2'),\n",
       " (1, 3): docplex.mp.Var(type=I,name='x_1_3'),\n",
       " (1, 4): docplex.mp.Var(type=I,name='x_1_4'),\n",
       " (2, 1): docplex.mp.Var(type=I,name='x_2_1'),\n",
       " (2, 2): docplex.mp.Var(type=I,name='x_2_2'),\n",
       " (2, 3): docplex.mp.Var(type=I,name='x_2_3'),\n",
       " (2, 4): docplex.mp.Var(type=I,name='x_2_4'),\n",
       " (3, 1): docplex.mp.Var(type=I,name='x_3_1'),\n",
       " (3, 2): docplex.mp.Var(type=I,name='x_3_2'),\n",
       " (3, 3): docplex.mp.Var(type=I,name='x_3_3'),\n",
       " (3, 4): docplex.mp.Var(type=I,name='x_3_4')}"
      ]
     },
     "execution_count": 16,
     "metadata": {},
     "output_type": "execute_result"
    }
   ],
   "source": [
    "# Create decision variables\n",
    "x = m.integer_var_dict(arcs, name='x')\n",
    "x"
   ]
  },
  {
   "cell_type": "code",
   "execution_count": 23,
   "metadata": {},
   "outputs": [],
   "source": [
    "# Objective function\n",
    "m.minimize(m.sum(distance[ij] * per_mile_cost * x[ij] for ij in arcs) + m.sum(shipment_cost * x[ij] for ij in arcs))"
   ]
  },
  {
   "cell_type": "code",
   "execution_count": 24,
   "metadata": {},
   "outputs": [
    {
     "name": "stdout",
     "output_type": "stream",
     "text": [
      "\\ This file has been generated by DOcplex\n",
      "\\ ENCODING=ISO-8859-1\n",
      "\\Problem name: 8.1-1\n",
      "\n",
      "Minimize\n",
      " obj: 500 x_1_1 + 750 x_1_2 + 300 x_1_3 + 450 x_1_4 + 650 x_2_1 + 800 x_2_2\n",
      "      + 400 x_2_3 + 600 x_2_4 + 400 x_3_1 + 700 x_3_2 + 500 x_3_3 + 550 x_3_4\n",
      "Subject To\n",
      " capacity_constraint_1: x_1_1 + x_1_2 + x_1_3 + x_1_4 <= 12\n",
      " capacity_constraint_2: x_2_1 + x_2_2 + x_2_3 + x_2_4 <= 17\n",
      " capacity_constraint_3: x_3_1 + x_3_2 + x_3_3 + x_3_4 <= 11\n",
      "\n",
      "Bounds\n",
      "\n",
      "Generals\n",
      " x_1_1 x_1_2 x_1_3 x_1_4 x_2_1 x_2_2 x_2_3 x_2_4 x_3_1 x_3_2 x_3_3 x_3_4\n",
      "End\n",
      "\n"
     ]
    }
   ],
   "source": [
    "# Check\n",
    "print(m.export_to_string())"
   ]
  },
  {
   "cell_type": "code",
   "execution_count": 25,
   "metadata": {},
   "outputs": [],
   "source": [
    "# capacity constraint\n",
    "for i in plants:\n",
    "    m.add_constraint(m.sum(x[(i, j)] for j in distributions) <= capacity[i - 1], ctname='capacity_constraint_%d' % i)"
   ]
  },
  {
   "cell_type": "code",
   "execution_count": 26,
   "metadata": {},
   "outputs": [
    {
     "name": "stdout",
     "output_type": "stream",
     "text": [
      "\\ This file has been generated by DOcplex\n",
      "\\ ENCODING=ISO-8859-1\n",
      "\\Problem name: 8.1-1\n",
      "\n",
      "Minimize\n",
      " obj: 500 x_1_1 + 750 x_1_2 + 300 x_1_3 + 450 x_1_4 + 650 x_2_1 + 800 x_2_2\n",
      "      + 400 x_2_3 + 600 x_2_4 + 400 x_3_1 + 700 x_3_2 + 500 x_3_3 + 550 x_3_4\n",
      "Subject To\n",
      " capacity_constraint_1: x_1_1 + x_1_2 + x_1_3 + x_1_4 <= 12\n",
      " capacity_constraint_2: x_2_1 + x_2_2 + x_2_3 + x_2_4 <= 17\n",
      " capacity_constraint_3: x_3_1 + x_3_2 + x_3_3 + x_3_4 <= 11\n",
      " capacity_constraint_1#3: x_1_1 + x_1_2 + x_1_3 + x_1_4 <= 12\n",
      " capacity_constraint_2#4: x_2_1 + x_2_2 + x_2_3 + x_2_4 <= 17\n",
      " capacity_constraint_3#5: x_3_1 + x_3_2 + x_3_3 + x_3_4 <= 11\n",
      "\n",
      "Bounds\n",
      "\n",
      "Generals\n",
      " x_1_1 x_1_2 x_1_3 x_1_4 x_2_1 x_2_2 x_2_3 x_2_4 x_3_1 x_3_2 x_3_3 x_3_4\n",
      "End\n",
      "\n"
     ]
    }
   ],
   "source": [
    "# Check\n",
    "print(m.export_to_string())"
   ]
  },
  {
   "cell_type": "code",
   "execution_count": 27,
   "metadata": {},
   "outputs": [],
   "source": [
    "# demand constraint\n",
    "for j in distributions:\n",
    "    m.add_constraint(m.sum(x[i, j] for i in plants) >= demand[i - 1], ctname='demand_constraint_%d' % j)\n"
   ]
  },
  {
   "cell_type": "code",
   "execution_count": 28,
   "metadata": {},
   "outputs": [
    {
     "name": "stdout",
     "output_type": "stream",
     "text": [
      "\\ This file has been generated by DOcplex\n",
      "\\ ENCODING=ISO-8859-1\n",
      "\\Problem name: 8.1-1\n",
      "\n",
      "Minimize\n",
      " obj: 500 x_1_1 + 750 x_1_2 + 300 x_1_3 + 450 x_1_4 + 650 x_2_1 + 800 x_2_2\n",
      "      + 400 x_2_3 + 600 x_2_4 + 400 x_3_1 + 700 x_3_2 + 500 x_3_3 + 550 x_3_4\n",
      "Subject To\n",
      " capacity_constraint_1: x_1_1 + x_1_2 + x_1_3 + x_1_4 <= 12\n",
      " capacity_constraint_2: x_2_1 + x_2_2 + x_2_3 + x_2_4 <= 17\n",
      " capacity_constraint_3: x_3_1 + x_3_2 + x_3_3 + x_3_4 <= 11\n",
      " capacity_constraint_1#3: x_1_1 + x_1_2 + x_1_3 + x_1_4 <= 12\n",
      " capacity_constraint_2#4: x_2_1 + x_2_2 + x_2_3 + x_2_4 <= 17\n",
      " capacity_constraint_3#5: x_3_1 + x_3_2 + x_3_3 + x_3_4 <= 11\n",
      " demand_constraint_1: x_1_1 + x_2_1 + x_3_1 >= 10\n",
      " demand_constraint_2: x_1_2 + x_2_2 + x_3_2 >= 10\n",
      " demand_constraint_3: x_1_3 + x_2_3 + x_3_3 >= 10\n",
      " demand_constraint_4: x_1_4 + x_2_4 + x_3_4 >= 10\n",
      "\n",
      "Bounds\n",
      "\n",
      "Generals\n",
      " x_1_1 x_1_2 x_1_3 x_1_4 x_2_1 x_2_2 x_2_3 x_2_4 x_3_1 x_3_2 x_3_3 x_3_4\n",
      "End\n",
      "\n"
     ]
    }
   ],
   "source": [
    "# Check\n",
    "print(m.export_to_string())"
   ]
  },
  {
   "cell_type": "code",
   "execution_count": 29,
   "metadata": {},
   "outputs": [],
   "source": [
    "# Set parameters for solving model\n",
    "m.parameters.timelimit = 120\n",
    "m.parameters.mip.strategy.branch = 1\n",
    "m.parameters.mip.tolerances.mipgap = 0.15"
   ]
  },
  {
   "cell_type": "code",
   "execution_count": 30,
   "metadata": {},
   "outputs": [
    {
     "name": "stdout",
     "output_type": "stream",
     "text": [
      "Version identifier: 12.10.0.0 | 2019-11-27 | 843d4de\n",
      "CPXPARAM_Read_DataCheck                          1\n",
      "CPXPARAM_RandomSeed                              201903125\n",
      "CPXPARAM_MIP_Strategy_Branch                     1\n",
      "CPXPARAM_TimeLimit                               120\n",
      "CPXPARAM_MIP_Tolerances_MIPGap                   0.14999999999999999\n",
      "Found incumbent of value 22500.000000 after 0.01 sec. (0.00 ticks)\n",
      "Tried aggregator 1 time.\n",
      "MIP Presolve eliminated 3 rows and 0 columns.\n",
      "Reduced MIP has 7 rows, 12 columns, and 24 nonzeros.\n",
      "Reduced MIP has 0 binaries, 12 generals, 0 SOSs, and 0 indicators.\n",
      "Presolve time = 0.01 sec. (0.02 ticks)\n",
      "Tried aggregator 1 time.\n",
      "Detecting symmetries...\n",
      "Reduced MIP has 7 rows, 12 columns, and 24 nonzeros.\n",
      "Reduced MIP has 0 binaries, 12 generals, 0 SOSs, and 0 indicators.\n",
      "Presolve time = 0.00 sec. (0.01 ticks)\n",
      "MIP emphasis: balance optimality and feasibility.\n",
      "MIP search method: dynamic search.\n",
      "Parallel mode: deterministic, using up to 12 threads.\n",
      "Root relaxation solution time = 0.01 sec. (0.01 ticks)\n",
      "\n",
      "        Nodes                                         Cuts/\n",
      "   Node  Left     Objective  IInf  Best Integer    Best Bound    ItCnt     Gap\n",
      "\n",
      "*     0+    0                        22500.0000        0.0000           100.00%\n",
      "*     0     0      integral     0    20200.0000    20200.0000        7    0.00%\n",
      "Elapsed time = 0.06 sec. (0.06 ticks, tree = 0.00 MB, solutions = 2)\n",
      "\n",
      "Root node processing (before b&c):\n",
      "  Real time             =    0.07 sec. (0.06 ticks)\n",
      "Parallel b&c, 12 threads:\n",
      "  Real time             =    0.00 sec. (0.00 ticks)\n",
      "  Sync time (average)   =    0.00 sec.\n",
      "  Wait time (average)   =    0.00 sec.\n",
      "                          ------------\n",
      "Total (root+branch&cut) =    0.07 sec. (0.06 ticks)\n"
     ]
    }
   ],
   "source": [
    "# Solve model\n",
    "soln = m.solve(log_output=True)"
   ]
  },
  {
   "cell_type": "code",
   "execution_count": 31,
   "metadata": {},
   "outputs": [
    {
     "name": "stdout",
     "output_type": "stream",
     "text": [
      "JobSolveStatus.OPTIMAL_SOLUTION\n",
      "solution for: 8.1-1\n",
      "objective: 20200.000\n",
      "x_1_3 = 2\n",
      "x_1_4 = 10\n",
      "x_2_2 = 9\n",
      "x_2_3 = 8\n",
      "x_3_1 = 10\n",
      "x_3_2 = 1\n"
     ]
    }
   ],
   "source": [
    "# Display results\n",
    "print(m.get_solve_status())\n",
    "soln.display()"
   ]
  },
  {
   "cell_type": "code",
   "execution_count": null,
   "metadata": {},
   "outputs": [],
   "source": [
    "m.g"
   ]
  }
 ],
 "metadata": {
  "kernelspec": {
   "display_name": "Python 3",
   "language": "python",
   "name": "python3"
  },
  "language_info": {
   "codemirror_mode": {
    "name": "ipython",
    "version": 3
   },
   "file_extension": ".py",
   "mimetype": "text/x-python",
   "name": "python",
   "nbconvert_exporter": "python",
   "pygments_lexer": "ipython3",
   "version": "3.7.3"
  }
 },
 "nbformat": 4,
 "nbformat_minor": 4
}
